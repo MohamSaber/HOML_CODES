{
 "cells": [
  {
   "cell_type": "markdown",
   "id": "b6cfacbe-c3d6-440e-b6b9-5876c1563576",
   "metadata": {},
   "source": [
    "# Basic Instructions"
   ]
  },
  {
   "cell_type": "markdown",
   "id": "62444fc7-9e81-4641-bd31-37e0f6fb84e3",
   "metadata": {},
   "source": [
    "## "
   ]
  },
  {
   "cell_type": "code",
   "execution_count": 3,
   "id": "11799f3e-d9c3-4ba6-a0c7-780e5a417fa7",
   "metadata": {},
   "outputs": [],
   "source": [
    "class car:\n",
    "    def __init__(self):\n",
    "        pass\n"
   ]
  },
  {
   "cell_type": "code",
   "execution_count": 4,
   "id": "5edf581d-28a1-4da6-9b7c-ed8e61bd911d",
   "metadata": {},
   "outputs": [
    {
     "data": {
      "text/plain": [
       "<__main__.car at 0x20fbd5a8440>"
      ]
     },
     "execution_count": 4,
     "metadata": {},
     "output_type": "execute_result"
    }
   ],
   "source": [
    "toyota =car()\n",
    "toyota"
   ]
  },
  {
   "cell_type": "code",
   "execution_count": 29,
   "id": "566c9ec8-e5dd-45d8-b0e8-0a281f42547c",
   "metadata": {},
   "outputs": [
    {
     "name": "stdout",
     "output_type": "stream",
     "text": [
      "2023\n",
      "197\n",
      "car model = 2023 car hp = 197 car celenders = 4\n"
     ]
    }
   ],
   "source": [
    "class car2:\n",
    "    common_attribute=\"the common\"\n",
    "    def __init__(self,model,hp):\n",
    "        self.model=model\n",
    "        self.hp=hp\n",
    "    def celenders(self,noCld):\n",
    "        return noCld\n",
    "    def carInfo(self):\n",
    "        print('car model = '+str(self.model)+' car hp = '+str(self.hp)+' car celenders = '+str(self.celenders(4)))\n",
    "        \n",
    "toyota=car2(2023,197)\n",
    "print(toyota.model)\n",
    "print(toyota.hp)\n",
    "toyota.celenders(4)\n",
    "toyota.carInfo()\n"
   ]
  },
  {
   "cell_type": "code",
   "execution_count": 30,
   "id": "7cd0e91c-8a36-420f-ae6c-ae46ff5c8f81",
   "metadata": {},
   "outputs": [
    {
     "data": {
      "text/plain": [
       "'the common'"
      ]
     },
     "execution_count": 30,
     "metadata": {},
     "output_type": "execute_result"
    }
   ],
   "source": [
    "car2.common_attribute"
   ]
  },
  {
   "cell_type": "code",
   "execution_count": 34,
   "id": "4e92b0b3-9136-46b4-96f7-d577300139f8",
   "metadata": {},
   "outputs": [],
   "source": [
    "class Dog:\n",
    "    def __init__(self, name, age):\n",
    "        self.name = name\n",
    "        self.age = age\n",
    "\n",
    "    # Instance method\n",
    "    def description(self): \n",
    "        return f\"{self.name} is {self.age} years old\"\n",
    "\n",
    "    \n",
    "    def speak(self, sound): ## this add another attribute but its dynamic it must be initialized when calling the function \n",
    "        return f\"{self.name} says {sound}\""
   ]
  },
  {
   "cell_type": "code",
   "execution_count": 35,
   "id": "37ca1812-e487-4888-ad7f-c2d0fcc27b4c",
   "metadata": {},
   "outputs": [
    {
     "data": {
      "text/plain": [
       "'malino is 5 years old'"
      ]
     },
     "execution_count": 35,
     "metadata": {},
     "output_type": "execute_result"
    }
   ],
   "source": [
    "malino=Dog('malino',5)\n",
    "malino.description()"
   ]
  },
  {
   "cell_type": "code",
   "execution_count": 36,
   "id": "658ea723-ab8e-4c9f-a24c-b5513d8a7051",
   "metadata": {},
   "outputs": [
    {
     "data": {
      "text/plain": [
       "'malino says wolf'"
      ]
     },
     "execution_count": 36,
     "metadata": {},
     "output_type": "execute_result"
    }
   ],
   "source": [
    "malino.speak('wolf')"
   ]
  },
  {
   "cell_type": "code",
   "execution_count": 44,
   "id": "91713395-bdda-45d1-b060-5ae5cfe325c0",
   "metadata": {},
   "outputs": [
    {
     "name": "stdout",
     "output_type": "stream",
     "text": [
      "<__main__.Dog object at 0x0000020FBD5AABA0>\n"
     ]
    }
   ],
   "source": [
    "print(malino)"
   ]
  },
  {
   "cell_type": "code",
   "execution_count": 45,
   "id": "caca0e7e-10ea-4483-85a0-f9f92d138a22",
   "metadata": {},
   "outputs": [
    {
     "name": "stdout",
     "output_type": "stream",
     "text": [
      "John(36)\n"
     ]
    }
   ],
   "source": [
    "class Person:\n",
    "  def __init__(self, name, age): ## we can name self with any other name \n",
    "    self.name = name\n",
    "    self.age = age\n",
    "\n",
    "  def __str__(self):\n",
    "    return f\"{self.name}({self.age})\"\n",
    "\n",
    "p1 = Person(\"John\", 36)\n",
    "\n",
    "print(p1)"
   ]
  },
  {
   "cell_type": "code",
   "execution_count": 46,
   "id": "6f942ab7-72a5-4a8f-8129-f02075202f5b",
   "metadata": {},
   "outputs": [],
   "source": [
    "p2 =Person('MoSaber',23)"
   ]
  },
  {
   "cell_type": "code",
   "execution_count": 47,
   "id": "f39a0fa0-c49f-4287-b7ee-969c84480c10",
   "metadata": {},
   "outputs": [],
   "source": [
    "del p2"
   ]
  },
  {
   "cell_type": "markdown",
   "id": "cde3c0ef-4084-41be-9ccb-f9bee5ba47d8",
   "metadata": {},
   "source": [
    "# Inheritance"
   ]
  },
  {
   "cell_type": "code",
   "execution_count": 37,
   "id": "e9e9aca9-9495-48f3-a75e-bb4695603f94",
   "metadata": {},
   "outputs": [
    {
     "data": {
      "text/plain": [
       "'brown'"
      ]
     },
     "execution_count": 37,
     "metadata": {},
     "output_type": "execute_result"
    }
   ],
   "source": [
    "class parent:\n",
    "    color ='brown'\n",
    "\n",
    "class child(parent):\n",
    "    pass\n",
    "\n",
    "child.color"
   ]
  },
  {
   "cell_type": "code",
   "execution_count": 39,
   "id": "31d00dd2-ea0f-4d38-ac3c-f8ae9a91ba8d",
   "metadata": {},
   "outputs": [
    {
     "data": {
      "text/plain": [
       "'red'"
      ]
     },
     "execution_count": 39,
     "metadata": {},
     "output_type": "execute_result"
    }
   ],
   "source": [
    "class parent:\n",
    "    color ='brown'\n",
    "\n",
    "class child(parent):\n",
    "    color='red' #will override the parent attribute \n",
    "\n",
    "child.color"
   ]
  },
  {
   "cell_type": "markdown",
   "id": "36fee562-b665-4fa3-b3b1-1ef7d15af6f7",
   "metadata": {},
   "source": [
    "### call the parent init (class1 --> class2)"
   ]
  },
  {
   "cell_type": "code",
   "execution_count": 42,
   "id": "ea44df62-8bfc-4ee5-860c-343c0d7601be",
   "metadata": {},
   "outputs": [
    {
     "name": "stdout",
     "output_type": "stream",
     "text": [
      "Animal created\n",
      "Dog created\n"
     ]
    }
   ],
   "source": [
    "class Animal:\n",
    "    def __init__(self):\n",
    "        print(\"Animal created\")\n",
    "\n",
    "class Dog(Animal):\n",
    "    def __init__(self):\n",
    "        super().__init__()   # calls Animal.__init__\n",
    "        print(\"Dog created\")\n",
    "\n",
    "d = Dog()\n"
   ]
  },
  {
   "cell_type": "markdown",
   "id": "81a7bfbc-0e3b-4929-887f-11ac96e3b825",
   "metadata": {},
   "source": [
    "## multiple inheritance (class1 --> class2 <--class3)"
   ]
  },
  {
   "cell_type": "code",
   "execution_count": 48,
   "id": "f3a8c0dc-0867-4adf-b104-6a457470d90a",
   "metadata": {},
   "outputs": [
    {
     "name": "stdout",
     "output_type": "stream",
     "text": [
      "Details of a person.\n",
      "Athletic skills.\n"
     ]
    }
   ],
   "source": [
    "class Person:\n",
    "    def get_details(self):\n",
    "        return \"Details of a person.\"\n",
    "\n",
    "class Athlete:\n",
    "    def get_skill(self):\n",
    "        return \"Athletic skills.\"\n",
    "\n",
    "class Student(Person, Athlete):\n",
    "    pass\n",
    "\n",
    "# Example usage\n",
    "student = Student()\n",
    "print(student.get_details())\n",
    "print(student.get_skill())"
   ]
  },
  {
   "cell_type": "code",
   "execution_count": 49,
   "id": "1c5a68bc-71f2-4bc0-884b-c0c7b99d60b0",
   "metadata": {},
   "outputs": [
    {
     "name": "stdout",
     "output_type": "stream",
     "text": [
      "(<class '__main__.Student'>, <class '__main__.Person'>, <class '__main__.Athlete'>, <class 'object'>)\n"
     ]
    }
   ],
   "source": [
    "print(Student.__mro__)"
   ]
  },
  {
   "cell_type": "markdown",
   "id": "938e8fda-eef5-49de-a2fe-5f80500ff5a7",
   "metadata": {},
   "source": [
    "### multilevel inheritance (calss1-->class2-->class3)"
   ]
  },
  {
   "cell_type": "code",
   "execution_count": 50,
   "id": "977180ad-5dbb-485b-b0b2-7895e9052fe1",
   "metadata": {},
   "outputs": [
    {
     "name": "stdout",
     "output_type": "stream",
     "text": [
      "Name: Charlie, ID: 91011, Grade: A, Thesis: AI in Healthcare\n"
     ]
    }
   ],
   "source": [
    "class Person:\n",
    "    def __init__(self, name, id):\n",
    "        self.name = name\n",
    "        self.id = id\n",
    "\n",
    "    def get_details(self):\n",
    "        return f\"Name: {self.name}, ID: {self.id}\"\n",
    "\n",
    "class Student(Person):\n",
    "    def __init__(self, name, id, grade):\n",
    "        super().__init__(name, id)\n",
    "        self.grade = grade\n",
    "\n",
    "    def get_details(self):\n",
    "        return f\"Name: {self.name}, ID: {self.id}, Grade: {self.grade}\"\n",
    "\n",
    "class GraduateStudent(Student):\n",
    "    def __init__(self, name, id, grade, thesis_title):\n",
    "        super().__init__(name, id, grade)\n",
    "        self.thesis_title = thesis_title\n",
    "\n",
    "    def get_details(self):\n",
    "        return f\"Name: {self.name}, ID: {self.id}, Grade: {self.grade}, Thesis: {self.thesis_title}\"\n",
    "\n",
    "# Example usage\n",
    "grad_student = GraduateStudent(\"Charlie\", 91011, \"A\", \"AI in Healthcare\")\n",
    "print(grad_student.get_details())"
   ]
  },
  {
   "cell_type": "code",
   "execution_count": null,
   "id": "b8ac8276-cdec-4d19-9dfb-22818a38f760",
   "metadata": {},
   "outputs": [],
   "source": []
  }
 ],
 "metadata": {
  "kernelspec": {
   "display_name": "Python 3 (ipykernel)",
   "language": "python",
   "name": "python3"
  },
  "language_info": {
   "codemirror_mode": {
    "name": "ipython",
    "version": 3
   },
   "file_extension": ".py",
   "mimetype": "text/x-python",
   "name": "python",
   "nbconvert_exporter": "python",
   "pygments_lexer": "ipython3",
   "version": "3.13.5"
  }
 },
 "nbformat": 4,
 "nbformat_minor": 5
}
